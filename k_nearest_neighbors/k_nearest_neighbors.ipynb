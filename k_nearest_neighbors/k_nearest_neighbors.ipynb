{
 "cells": [
  {
   "cell_type": "markdown",
   "id": "17d00580",
   "metadata": {},
   "source": [
    "# K nearest neighbors in 2D\n",
    "## Introduction\n",
    "The k nearest neighbors algorithm is a simple supervised learning algorithm. It can be used to assign unlabelled data points to existing categories/labels given a set of labelled data. Lets look at a quick example: \n"
   ]
  },
  {
   "cell_type": "code",
   "execution_count": 8,
   "id": "6235bcaa",
   "metadata": {},
   "outputs": [
    {
     "data": {
      "text/plain": [
       "Text(0, 0.5, 'Fruit Height (cms)')"
      ]
     },
     "execution_count": 8,
     "metadata": {},
     "output_type": "execute_result"
    },
    {
     "data": {
      "image/png": "[encoded data removed]",
      "text/plain": [
       "<Figure size 432x288 with 1 Axes>"
      ]
     },
     "metadata": {
      "needs_background": "light"
     },
     "output_type": "display_data"
    }
   ],
   "source": [
    "from matplotlib import pyplot as plt\n",
    "from matplotlib import colors\n",
    "import random\n",
    "import pandas as pd\n",
    "import numpy as np\n",
    "import statistics\n",
    "\n",
    "# Create a fake dataset of fruit weight, height, and label\n",
    "fruit_weight = []\n",
    "fruit_height = []\n",
    "labels = []\n",
    "color_pallate = ['red', 'blue']\n",
    "\n",
    "for i in range(100):\n",
    "    probability = random.uniform(0,1)\n",
    "    if probability > 0.5: \n",
    "        fruit_weight.append(random.uniform(5, 8))\n",
    "        fruit_height.append(random.uniform(3, 5))\n",
    "        labels.append(1)\n",
    "    else:\n",
    "        fruit_weight.append(random.uniform(2, 4))\n",
    "        fruit_height.append(random.uniform(1, 3))\n",
    "        labels.append(0)\n",
    "        \n",
    "fruit_weight = np.asarray(fruit_weight)\n",
    "fruit_height = np.asarray(fruit_height)\n",
    "labels = np.asarray(labels)\n",
    "\n",
    "# Plot the data        \n",
    "fig, ax = plt.subplots()        \n",
    "ax.scatter(fruit_weight, fruit_height, s=2, c=labels, cmap=colors.ListedColormap(color_pallate))\n",
    "ax.set_xlabel(\"Fruit Weight (ounces)\")\n",
    "ax.set_ylabel(\"Fruit Height (cms)\")"
   ]
  },
  {
   "cell_type": "markdown",
   "id": "21a10bad",
   "metadata": {},
   "source": [
    "## Categorizing data using existing labels\n",
    "I created a fake dataset of fruit weight and height, after which they were categorized in to one of two classes. An apple (1) or a lemon(0.) The question now is, given some fruit of known weight and height, but no label, can we use our existing labelled data to categorize it? KNN allows us to do this quite easily by **keeping track of the 'k' nearest neighboring points, and simply assigning the datapoint to whichever label has a majority amongst the neighboring points.**\n",
    "\n",
    "The complexity of KNN is rooted in the search algorithm that finds the 'k' nearest neighbors. The approach is calculating the **euclidian distances** between the unlabelled datapoint and all the labelled datapoints. \n",
    "The euclidian distance between two points 'a' and 'b' with 'i' features is defined as: \n",
    "\n",
    "### $\\sqrt{  \\sum_{n=0}^{i} (a_{i} - b_{i})^2 } $\n",
    "\n",
    "We compute this euclidian distance between the datapoint we'd like to predict a label for, and all the other points. "
   ]
  },
  {
   "cell_type": "code",
   "execution_count": 9,
   "id": "e168f616",
   "metadata": {},
   "outputs": [
    {
     "name": "stdout",
     "output_type": "stream",
     "text": [
      "Datapoint prediction is:\n",
      "Lemon\n"
     ]
    }
   ],
   "source": [
    "# Define a function to compute the euclidian distance given two feature vectors\n",
    "def euclidian_distance(d1,d2): \n",
    "    # d1 = datapoint 1\n",
    "    # d2 = datapoint 2\n",
    "    euclidian = np.sqrt(np.sum((d1-d2)**2))\n",
    "    return euclidian\n",
    "\n",
    "# k nearest neighbors function for 2D case\n",
    "def k_nearest_neighbors(feature_1, feature_2, datapoint, k):\n",
    "    \n",
    "    '''\n",
    "        feature_1: \n",
    "            array of the first feature (weights)\n",
    "        feature_2: \n",
    "            array of the second feature (heights)\n",
    "        datapoint: \n",
    "            numpy array containing unlabelled datapoint (in the form np.array([weight, height]))\n",
    "        k: \n",
    "            Number of neighbors to consider\n",
    "    '''\n",
    "    \n",
    "    # Instantiate an array that will hold the euclidian distances \n",
    "    euclidian_distances = np.zeros((1, len(feature_1))).flatten()\n",
    "    \n",
    "    # Iterate through each labelled data point and compute the euclidian distance to the unlabelled point\n",
    "    for i in range(len(feature_1)):\n",
    "        euclidian_distances[i] = euclidian_distance(np.asarray(feature_1[i], feature_2[i]), datapoint)\n",
    "        \n",
    "    # Return the indices of the first k smallest euclidian distances \n",
    "    return np.argsort(euclidian_distances)[:k]\n",
    "    \n",
    "# Perform a prediction with an unlabelled datapoint using 5 neighbors    \n",
    "label_dict = {1: 'Apple', 0: 'Lemon'}\n",
    "unlabelled_datapoint = np.asarray([4,3])\n",
    "k_indices = k_nearest_neighbors(fruit_weight, fruit_height, unlabelled_datapoint, 5)\n",
    "\n",
    "# Acquire the labels of the k nearest points\n",
    "k_nearest_labels = labels[k_indices]\n",
    "\n",
    "prediction = statistics.mode(k_nearest_labels)\n",
    "print(\"Datapoint prediction is:\")\n",
    "print(label_dict[prediction])"
   ]
  },
  {
   "cell_type": "markdown",
   "id": "8eccb1a5",
   "metadata": {},
   "source": [
    "Visualizing this prediction, we can see that the algorithm has made a pretty accurate guess given the clustering: "
   ]
  },
  {
   "cell_type": "code",
   "execution_count": 10,
   "id": "69850471",
   "metadata": {},
   "outputs": [
    {
     "data": {
      "text/plain": [
       "Text(0, 0.5, 'Fruit Height (cms)')"
      ]
     },
     "execution_count": 10,
     "metadata": {},
     "output_type": "execute_result"
    },
    {
     "data": {
      "image/png": "[encoded data removed]",
      "text/plain": [
       "<Figure size 432x288 with 1 Axes>"
      ]
     },
     "metadata": {
      "needs_background": "light"
     },
     "output_type": "display_data"
    }
   ],
   "source": [
    "# Plot the data        \n",
    "fig, ax = plt.subplots() \n",
    "ax.scatter(fruit_weight, fruit_height, s=2, c=labels, cmap=colors.ListedColormap(color_pallate))\n",
    "ax.scatter(unlabelled_datapoint[0], unlabelled_datapoint[1], s=50, color=\"red\")\n",
    "ax.set_xlabel(\"Fruit Weight (ounces)\")\n",
    "ax.set_ylabel(\"Fruit Height (cms)\")"
   ]
  },
  {
   "cell_type": "markdown",
   "id": "a76d095b",
   "metadata": {},
   "source": [
    "## Complexity\n",
    "It is worth noting here that our algorithm needs to loop through all 'n' training oversations to compute the euclidian distance. After that, we take advantage of numpy's built in sorting algorithms to order the unsorted labels. The first part of this algorithm is **O(nd)** time complexity, where **d** refers to the number of operations it takes for computing the euclidian distance (which scales based on the number of features each data point has.) The sorting algorithm is **O(n)** complexity. So the overall time complexity of this implementation is **O(nd) + O(n)**, which we simplify to **O(nd)**. \n",
    "\n",
    "Our space complexity is **O(n)** since we are storing all the euclidian distances and lables in separate data structures. "
   ]
  },
  {
   "cell_type": "code",
   "execution_count": null,
   "id": "5aadd246",
   "metadata": {},
   "outputs": [],
   "source": []
  }
 ],
 "metadata": {
  "kernelspec": {
   "display_name": "Python 3",
   "language": "python",
   "name": "python3"
  },
  "language_info": {
   "codemirror_mode": {
    "name": "ipython",
    "version": 3
   },
   "file_extension": ".py",
   "mimetype": "text/x-python",
   "name": "python",
   "nbconvert_exporter": "python",
   "pygments_lexer": "ipython3",
   "version": "3.8.8"
  }
 },
 "nbformat": 4,
 "nbformat_minor": 5
}
