{
 "cells": [
  {
   "cell_type": "markdown",
   "id": "f1c78510",
   "metadata": {},
   "source": [
    "# Linear Regression\n",
    "## Introduction\n",
    "I'm using this notebook as a means to serve my own understanding for linear regressors. Hopefully, it is a useful find for anyone who is looking to understand these models as well. \n",
    "\n",
    "## Key idea\n",
    "Linear regressors are a great way to model a linear relationship between two or more variables. In other words, we are attempting to derive a function for a straight line which most accurately captures the relationship between two or more sets of data. Linear regressors offer a mathematically rigorous approach to finding this 'best fit' line. \n",
    "\n",
    "\n",
    "## Dataset for demonstration\n",
    "Typically, examples describing this type of modelling are easiest demostrated with two variables. As such, I decided to use a fish market dataset which catalogues the weight, legnths and prices of various fish species: \n",
    "\n",
    "https://www.kaggle.com/aungpyaeap/fish-market\n",
    "\n",
    "I think as a starting exercise it would be interesting to try and model the relationship between the weight and vertical length of the Perch fish species. \n",
    "\n",
    "## Mathematics of linear regression\n",
    "We know that a 2D line can be described using the equation\n",
    "\n",
    "$y = mx + b$\n",
    "\n",
    "* y = y coordinate \n",
    "* m = slope \n",
    "* x = x coordinate\n",
    "* b = y intercept\n",
    "\n",
    "The goal is to arrive at a value of m and b that best fits this data. in other words, we must **minimize the distances between the data points and the predicted line.**\n",
    "We can formulate this as a simple optimization problem: \n",
    "\n",
    "For what values of $m$ and $b$ does $\\sum \\limits _{i=1} ^{n} (y_{i} - (mx_{i} + b)) ^2$ become the smallest possible value? Here, $y_{i}$ is the i'th data points y value, and $mx_{i} + b$ represents the predicted y value. The sum term is simply adding up all of the squared y distances between each predicted point, and actual data point. \n",
    "\n",
    "The above equation is called the *square error*, and typically in this kind of an optimization problem, we also throw in a $1/n$ term, which just changes the expression to a *mean square error* i.e: \n",
    "$ (1/n)\\sum \\limits _{i=1} ^{n} (y_{i} - (mx_{i} + b)) ^2$"
   ]
  },
  {
   "cell_type": "code",
   "execution_count": 39,
   "id": "5e0af867",
   "metadata": {},
   "outputs": [],
   "source": [
    "from matplotlib import pyplot as plt\n",
    "import pandas as pd\n",
    "\n",
    "# Load the fish dataset\n",
    "fish_data = pd.read_csv(\"/Users/srujanvajram/Documents/Github/ML_playground/ML_playground/Fish.csv\")\n",
    "\n",
    "# Index the pandas dataframes for Perch weight and height\n",
    "mask = fish_data['Species'] == 'Perch'\n",
    "perch_data = fish_data[mask]\n",
    "perch_weight = perch_data['Weight'].values\n",
    "perch_height = perch_data['Height'].values"
   ]
  },
  {
   "cell_type": "code",
   "execution_count": 41,
   "id": "f2b88690",
   "metadata": {},
   "outputs": [
    {
     "data": {
      "text/plain": [
       "Text(0, 0.5, 'Height (cm)')"
      ]
     },
     "execution_count": 41,
     "metadata": {},
     "output_type": "execute_result"
    },
    {
     "data": {
      "image/png": "[encoded data removed]",
      "text/plain": [
       "<Figure size 432x288 with 1 Axes>"
      ]
     },
     "metadata": {
      "needs_background": "light"
     },
     "output_type": "display_data"
    }
   ],
   "source": [
    "# Plot the weight and height as a scatter plot\n",
    "plt.scatter(perch_weight,perch_height, s=5)\n",
    "plt.xlabel(\"Weight (grams)\")\n",
    "plt.ylabel(\"Height (cm)\")"
   ]
  },
  {
   "cell_type": "markdown",
   "id": "06cea299",
   "metadata": {},
   "source": [
    "## First impressions\n",
    "This is pretty interesting distribution. From initial inspection I can already tell this close to a linear relationship but not quite (a logistic curve would fit this better) but for the purpose of this exercise, lets see how good of a linear fit we can model.  \n"
   ]
  },
  {
   "cell_type": "code",
   "execution_count": null,
   "id": "c0f5e7c1",
   "metadata": {},
   "outputs": [],
   "source": []
  }
 ],
 "metadata": {
  "kernelspec": {
   "display_name": "Python 3",
   "language": "python",
   "name": "python3"
  },
  "language_info": {
   "codemirror_mode": {
    "name": "ipython",
    "version": 3
   },
   "file_extension": ".py",
   "mimetype": "text/x-python",
   "name": "python",
   "nbconvert_exporter": "python",
   "pygments_lexer": "ipython3",
   "version": "3.8.8"
  }
 },
 "nbformat": 4,
 "nbformat_minor": 5
}
