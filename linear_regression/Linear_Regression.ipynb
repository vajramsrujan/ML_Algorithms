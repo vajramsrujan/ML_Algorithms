{
 "cells": [
  {
   "cell_type": "markdown",
   "id": "f1c78510",
   "metadata": {},
   "source": [
    "# Linear Regression\n",
    "## Introduction\n",
    "I'm using this notebook as a means to serve my own understanding for linear regressors. Hopefully, it is a useful find for anyone who is looking to understand these models as well. \n",
    "\n",
    "## Key idea\n",
    "Linear regressors are a great way to model a linear relationship between two or more variables. In other words, we are attempting to derive a function for a straight line which most accurately captures the relationship between two or more sets of data. Linear regressors offer a mathematically rigorous approach to finding this 'best fit' line. \n",
    "\n",
    "## Mathematics of linear regression in 2D space\n",
    "We know that a 2D line can be described using the equation\n",
    "\n",
    "$y = mx + b$\n",
    "\n",
    "* y = y coordinate \n",
    "* m = slope \n",
    "* x = x coordinate\n",
    "* b = y intercept\n",
    "\n",
    "The goal is to arrive at a value of m and b that best fits our data, (in this case, we are assuming two variables). In other words, we must **minimize the distances between the data points and the predicted line.**\n",
    "We can formulate this as a simple optimization problem: \n",
    "\n",
    "For what values of $m$ and $b$ does $\\sum \\limits _{i=1} ^{n} (y_{i} - (mx_{i} + b)) ^2$ become the smallest possible value? Here, $y_{i}$ is the i'th data points y value, and $mx_{i} + b$ represents the predicted y value. The sum term is simply adding up all of the squared y distances between each predicted point, and actual data point. \n",
    "\n",
    "The above equation is called the *square error*, and typically in this kind of an optimization problem, we also throw in a $1/n$ term, which just changes the expression to a *mean square error* i.e\\\n",
    "$Error_{mse} = (1/n)\\sum \\limits _{i=1}^{n} (y_{i} - (mx_{i} + b)) ^2$\n",
    "\n",
    "We can use **partial derivaties** to compute the slop of this error function with respect to $m$ and $b$. This is useful because it gives us an idea of what *direction* to nudge the variables in to get a smaller error. \n",
    "\n",
    "$\\frac{\\partial E}{\\partial m} = (1/n)\\sum \\limits _{i=1}^{n} (2)(y_{i} - (mx_{i} + b))(-x_{i})$\\\n",
    "$\\frac{\\partial E}{\\partial b} = (1/n)\\sum \\limits _{i=1}^{n} (2)(y_{i} - (mx_{i} + b))(-1)$\n",
    "\n",
    "In essence, each partial derivative describes the slope of the error function. We can use this to update our variables to values that will reduce this error function:\n",
    "\n",
    "$m = m -(L)\\frac{\\partial E}{\\partial m}$\\\n",
    "$b = b -(L)\\frac{\\partial b}{\\partial m}$\n",
    "\n",
    "Here, $L$ is a constant called the **Learning rate**. It can be tuned to modify how big of an update is made to each of the variables in our hunt for the error functions minimum value. Notice we are *subtracting* the partial derivative, because the partial derivative by itself gives us the steepest *ascent*, (change that most greatly *increases* the error function.) We want to go in the opposite direction.\n",
    "\n",
    "The idea here is to **iteratively update our m and b values** until we reach some kind of minima. We could check for convergence by inspecting how much the mean squared error changes per update. If we find that the error is barely moving after many updates, we can conclude that we have reached a minima. In 2D linear regressor models, this is usually the global minima. \n",
    "\n",
    "## Dataset for demonstration\n",
    "I decided to use a fish market dataset which catalogues the weight, lengths and prices of various fish species: \n",
    "\n",
    "https://www.kaggle.com/aungpyaeap/fish-market\n",
    "\n",
    "I think as a starting exercise it would be interesting to try and model the relationship between the weight and vertical length of the Perch fish species. \n",
    "\n"
   ]
  },
  {
   "cell_type": "code",
   "execution_count": 5,
   "id": "5e0af867",
   "metadata": {},
   "outputs": [],
   "source": [
    "from matplotlib import pyplot as plt\n",
    "import pandas as pd\n",
    "\n",
    "# Load the fish dataset\n",
    "fish_data = pd.read_csv(r\"C:\\Users\\vajra\\Documents\\GitHub\\ML_playground\\ML_playground\\linear_regression\\Fish.csv\")\n",
    "\n",
    "# Index the pandas dataframes for Perch weight and height\n",
    "mask = fish_data['Species'] == 'Perch'\n",
    "perch_data = fish_data[mask]\n",
    "perch_weight = perch_data['Weight'].values\n",
    "perch_height = perch_data['Height'].values"
   ]
  },
  {
   "cell_type": "code",
   "execution_count": 6,
   "id": "f2b88690",
   "metadata": {},
   "outputs": [
    {
     "data": {
      "text/plain": [
       "Text(0, 0.5, 'Height (cm)')"
      ]
     },
     "execution_count": 6,
     "metadata": {},
     "output_type": "execute_result"
    },
    {
     "data": {
      "image/png": "[encoded data removed]",
      "text/plain": [
       "<Figure size 432x288 with 1 Axes>"
      ]
     },
     "metadata": {
      "needs_background": "light"
     },
     "output_type": "display_data"
    }
   ],
   "source": [
    "# Plot the weight and height as a scatter plot\n",
    "plt.scatter(perch_weight,perch_height, s=5)\n",
    "plt.xlabel(\"Weight (grams)\")\n",
    "plt.ylabel(\"Height (cm)\")"
   ]
  },
  {
   "cell_type": "markdown",
   "id": "06cea299",
   "metadata": {},
   "source": [
    "## First impressions\n",
    "This is pretty interesting distribution. From initial inspection I can already tell this not quite a linear relationship (a logistic curve would fit this much better) but for the purpose of this exercise, lets see how good of a linear fit we can model.  "
   ]
  },
  {
   "cell_type": "markdown",
   "id": "ed23c1c4",
   "metadata": {},
   "source": [
    "## Updating the variables (Gradient Descent)\n",
    "The process of updating the variables in the direction of steepest descent is called **gradient descent.** We compose a function to update our variables."
   ]
  },
  {
   "cell_type": "code",
   "execution_count": 8,
   "id": "278ffdc0",
   "metadata": {},
   "outputs": [],
   "source": [
    "def gradient_descent(m,b,x,y,L):\n",
    "    \n",
    "    # Compute predictions\n",
    "    predictions = m*x + b\n",
    "    # Compute the gradient of the loss for all predicted points \n",
    "    m_grad = (1/len(x)) * 2 * sum(  (y -(predictions)) * -x )\n",
    "    b_grad = (1/len(x)) * 2 * sum(  (y -(predictions))  * -1 )\n",
    "    \n",
    "    m_new = m - L*(m_grad)\n",
    "    b_new = b - L*(b_grad)\n",
    "    \n",
    "    return m_new, b_new"
   ]
  },
  {
   "cell_type": "code",
   "execution_count": null,
   "id": "773b4c9b",
   "metadata": {},
   "outputs": [],
   "source": []
  }
 ],
 "metadata": {
  "kernelspec": {
   "display_name": "Python 3 (ipykernel)",
   "language": "python",
   "name": "python3"
  },
  "language_info": {
   "codemirror_mode": {
    "name": "ipython",
    "version": 3
   },
   "file_extension": ".py",
   "mimetype": "text/x-python",
   "name": "python",
   "nbconvert_exporter": "python",
   "pygments_lexer": "ipython3",
   "version": "3.8.12"
  }
 },
 "nbformat": 4,
 "nbformat_minor": 5
}
