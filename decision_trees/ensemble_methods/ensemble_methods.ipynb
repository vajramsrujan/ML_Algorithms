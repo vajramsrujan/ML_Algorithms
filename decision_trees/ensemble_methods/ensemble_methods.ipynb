{
 "cells": [
  {
   "cell_type": "markdown",
   "id": "b9778015",
   "metadata": {},
   "source": [
    "# Ensemble methods\n",
    "## Introduction \n",
    "\n",
    "Decision trees are interpretable and simple to implement models, but a single decision tree often suffers from high variance and thus struggle to generalize to new data. Ensemble methods refer to a group of strategies which mitigate this issue by **producing many different decision trees and determining classification using a consensus.** The idea is by basing our decisions off of the random variations of many suboptimal decision models, we arrive at a much stronger overall model. We discuss a few common ensemble methods in this notebook and how to implement them. \n",
    "\n",
    "## Common ensemble algorithms\n",
    "Some common ensemble strategies include: \n",
    "- Bagging \n",
    "- Random Forest (extension of bagging) \n",
    "- Extremely Randomized Trees \n",
    "- Boosting algorithms (not covered in this notebook) \n",
    "\n",
    "## Bagging \n",
    "Bagging refers to a method where multiple decision trees are created, **each from a random subset of the data.** Each subset is a random sampling of datapoints from the original dataset allowing for replacement, meaning the same sample can be chosen more than once. The subset is called a *bootstrapped dataset.* \n",
    "\n",
    "Bagging is a great way to reduce model variance because it *prevents any one decision tree from having full view of the entire dataset.* Consequently, the probability of overfitting the data is far less. Instead, bagging encourages smaller submodels (each deicion tree) to learn independent relationships within the data, which when combined, can better generalize a model for the data. \n",
    "\n",
    "<br>\n",
    "<table><tr>\n",
    "<td> <img src=\"images_and_data/b_1.png\" alt=\"Drawing\" style=\"width: 400px;\"/> </td>\n",
    "<td> <img src=\"images_and_data/b_2.png\" alt=\"Drawing\" style=\"width: 300px;\"/> </td>\n",
    "</tr></table>\n",
    "<br>\n",
    "<table><tr>\n",
    "<td> <img src=\"images_and_data/b_3.png\" alt=\"Drawing\" style=\"width: 400px;\"/> </td>\n",
    "<td> <img src=\"images_and_data/b_4.png\" alt=\"Drawing\" style=\"width: 400px;\"/> </td>\n",
    "</tr></table>\n",
    "<br>\n",
    "\n",
    "\n",
    "## Boosting \n",
    "Boosting is a technique which involves producing multiple decision trees in a sequential manner. Each decison tree is created on the basis of reducing the error of the prior tree. Some common boosting algorithms include AdaBoost, Gradient Boost and XGBoost.\n"
   ]
  },
  {
   "cell_type": "code",
   "execution_count": null,
   "id": "243809a5",
   "metadata": {},
   "outputs": [],
   "source": []
  }
 ],
 "metadata": {
  "kernelspec": {
   "display_name": "Python 3",
   "language": "python",
   "name": "python3"
  },
  "language_info": {
   "codemirror_mode": {
    "name": "ipython",
    "version": 3
   },
   "file_extension": ".py",
   "mimetype": "text/x-python",
   "name": "python",
   "nbconvert_exporter": "python",
   "pygments_lexer": "ipython3",
   "version": "3.8.8"
  }
 },
 "nbformat": 4,
 "nbformat_minor": 5
}
