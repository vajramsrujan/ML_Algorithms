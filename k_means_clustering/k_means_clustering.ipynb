{
 "cells": [
  {
   "cell_type": "markdown",
   "id": "47440808",
   "metadata": {},
   "source": [
    "# K means clustering\n",
    "## Introduction \n",
    "\n",
    "With the k-nearest neighbors algorithm, we are able to succesfuly classify an unknown datapoint given some labelled data. A more complex scenario is achieveing a classification strategy in the absence of labelled data, (i.e our training set is not labelled.) In essence, how do we draw decision boundaries in our data when we do not have labels? The k-means clustering algorithm can achieve this through an iterative optimization process. K means attempts to sort data into K distinct labels or 'clusters'. It is a type of *unsupervised learning* algorithm. We create a a fake dataset below for demonstration purposes. "
   ]
  },
  {
   "cell_type": "code",
   "execution_count": 15,
   "id": "c47683ab",
   "metadata": {},
   "outputs": [
    {
     "data": {
      "text/plain": [
       "Text(0, 0.5, 'Fruit Height (cms)')"
      ]
     },
     "execution_count": 15,
     "metadata": {},
     "output_type": "execute_result"
    },
    {
     "data": {
      "image/png": "[encoded data removed]",
      "text/plain": [
       "<Figure size 432x288 with 1 Axes>"
      ]
     },
     "metadata": {
      "needs_background": "light"
     },
     "output_type": "display_data"
    }
   ],
   "source": [
    "from matplotlib import pyplot as plt\n",
    "from matplotlib import colors\n",
    "import random\n",
    "import pandas as pd\n",
    "import numpy as np\n",
    "import statistics\n",
    "\n",
    "# Create a fake dataset of fruit weight, height, and label\n",
    "fruit_weight = []\n",
    "fruit_height = []\n",
    "\n",
    "for i in range(150):\n",
    "    probability = random.uniform(0,1)\n",
    "    if probability < 0.33: \n",
    "        fruit_weight.append(random.uniform(2, 4))\n",
    "        fruit_height.append(random.uniform(1, 3))\n",
    "\n",
    "    elif probability > 0.33 and probability < 0.66:\n",
    "        fruit_weight.append(random.uniform(6, 8))\n",
    "        fruit_height.append(random.uniform(3, 5))\n",
    "\n",
    "        \n",
    "    else: \n",
    "        fruit_weight.append(random.uniform(5, 7))\n",
    "        fruit_height.append(random.uniform(1, 2))\n",
    "    \n",
    "fruit_weight = np.asarray(fruit_weight)\n",
    "fruit_height = np.asarray(fruit_height)\n",
    "\n",
    "# Combine data into single matrix where each row represents a datapoint\n",
    "# and each column represents a feature\n",
    "data = np.concatenate((fruit_weight.reshape(len(fruit_weight), 1), fruit_height.reshape(len(fruit_height), 1)),axis=1)\n",
    "\n",
    "# Plot the data        \n",
    "fig, ax = plt.subplots()        \n",
    "ax.scatter(data[:,0], data[:,1], s=3)\n",
    "ax.set_xlabel(\"Fruit Weight (ounces)\")\n",
    "ax.set_ylabel(\"Fruit Height (cms)\")"
   ]
  },
  {
   "cell_type": "markdown",
   "id": "06b34f56",
   "metadata": {},
   "source": [
    "## Producing labels for our data\n",
    "\n",
    "We reuse our fruit weights and heights dataset for this example. A quick glance at the data, and it's easy for people to decipher 3 distinct clusters. Our ability to perceive this natural grouping is a reflection of how well the human visual cortex has evolved to find patterns and orders very quickly. The KMC algorithm does not have the advantage of this visual intuition like we do. However, KMC is clever in its ability to infer very similar classification outputs by using a few simple steps: \n",
    "\n",
    "1. For K = 3 (user decided), initialize 3 random points that will represet the 'centers' of our clusters\n",
    "2. Label each data point using a simple smallest euclidian distance criteria (i.e the datapoint is labelled to whichever center is closest to it.) \n",
    "3. Re-compute 3 new centers by computing the mean of the labelled data points from step 2. \n",
    "4. Repeat starting from step 2 until there is no significant change in cluster center movement (convergence)\n",
    "\n",
    "Our euclidian distance is calculated the exact same way as was done in K nearest neighbors. For any given datapoint $b$, we compute the three distances as: \n",
    "### cluster_1_distance = $\\sqrt{  \\sum_{n=0}^{i} (c^1_{i} - b_{i})^2 } $\n",
    "### cluster_2_distance = $\\sqrt{  \\sum_{n=0}^{i} (c^2_{i} - b_{i})^2 } $\n",
    "### cluster_3_distance = $\\sqrt{  \\sum_{n=0}^{i} (c^3_{i} - b_{i})^2 } $\n",
    "\n",
    "Here, $c^1$, $c^2$, $c^3$, represent cluster point centers 1,2 and 3 respectively. $i$ reflects the number of features we are iterating over in our summation. Upon computing these distances, point $b$ is assigned a label of 1,2 or 3 based on whichever cluster distance turns out to be the smallest. "
   ]
  },
  {
   "cell_type": "code",
   "execution_count": 18,
   "id": "77c2b1c6",
   "metadata": {},
   "outputs": [
    {
     "data": {
      "text/plain": [
       "[array([2.08715162, 2.17121721]),\n",
       " array([5.66811636, 1.1474631 ]),\n",
       " array([7.59618612, 4.58008176])]"
      ]
     },
     "execution_count": 18,
     "metadata": {},
     "output_type": "execute_result"
    }
   ],
   "source": [
    "# Define a function to compute the euclidian distance given two feature vectors\n",
    "def find_closest_cluster(centers,datapoint): \n",
    "    \n",
    "    euclidians = np.zeros((1, len(centers))).flatten()\n",
    "    \n",
    "    for index, center in enumerate(centers):\n",
    "        euclidian = np.sqrt(np.sum((center-datapoint)**2))\n",
    "        euclidians[index] = euclidian\n",
    "        \n",
    "    return np.argmin(euclidians)\n",
    "\n",
    "def create_clusters(centers): \n",
    "    \n",
    "    # Initialize an empty list of lists where each list will hold the indices of the \n",
    "    # points belonging to one cluster \n",
    "    clusters = [[] for _ in range(len(centers))]\n",
    "    \n",
    "    for index, datapoint in data: \n",
    "        closest_cluster = find_closest_cluster(centers, datapoint)\n",
    "        clusters[closest_cluster].append(index)\n",
    "    \n",
    "# Function to compute k nearest neighbors for 2 features (2D case) \n",
    "def k_nearest_neighbors(k, data): \n",
    "    \n",
    "    '''\n",
    "        k: \n",
    "            Number of clusters\n",
    "        feature_1: \n",
    "            array of the first feature (weights)\n",
    "        feature_2: \n",
    "            array of the second feature (heights)\n",
    "    '''\n",
    "    \n",
    "    # Initialize random centers by first grabbing 3 random indices \n",
    "    # Replace flag ensures no duplicates are chosen\n",
    "    random_centroid_indices = np.random.choice(len(data[:,0]), k, replace=False)\n",
    "    \n",
    "    # Grab 3 random points using those indices \n",
    "    centers = [data[indx] for indx in random_centroid_indices]\n",
    "    \n",
    "    \n",
    "k_nearest_neighbors(3, data)\n",
    "    "
   ]
  },
  {
   "cell_type": "code",
   "execution_count": null,
   "id": "55ff53cf",
   "metadata": {},
   "outputs": [],
   "source": []
  }
 ],
 "metadata": {
  "kernelspec": {
   "display_name": "Python 3",
   "language": "python",
   "name": "python3"
  },
  "language_info": {
   "codemirror_mode": {
    "name": "ipython",
    "version": 3
   },
   "file_extension": ".py",
   "mimetype": "text/x-python",
   "name": "python",
   "nbconvert_exporter": "python",
   "pygments_lexer": "ipython3",
   "version": "3.8.8"
  }
 },
 "nbformat": 4,
 "nbformat_minor": 5
}
