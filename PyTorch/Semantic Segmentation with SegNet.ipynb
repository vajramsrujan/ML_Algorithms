{
 "cells": [
  {
   "cell_type": "markdown",
   "id": "993b69f0",
   "metadata": {},
   "source": [
    "# Semantic Segmentation using SegNet \n",
    "## Introduction\n",
    "This notebook is a summary of a personal project demonstrating how convolutional neural networks (CNNs) can be used for an image segmentation task. Specifically, we describe semantic labelling of specific targets within a dataset. Semantic segmentation is a common segmentation technique where different objects are distinguised from each other based on class type only, though each instance within the class is not delineated. \n",
    "\n",
    "<br>\n",
    "<img src=\"typesofseg.png\" width=1000 height=1000 />"
   ]
  },
  {
   "cell_type": "markdown",
   "id": "880e5682",
   "metadata": {},
   "source": [
    "##  Dataset \n",
    "I've been particularly interested in how supervised learning can be used in digital pathology and other medical/research image modailties. For this project, I used a **darkfield microscopy dataset** populated with labelled red blood cells (RBC's) and Spirochaeta bacteria. My goal was to construct and test a CNN architecture from the groud up which could label RBC's from bacteria within reasonable accuracy. For me, automating labelling of bacterium species seemed like a great starting point for exploring the capabilities of supervised learning in a diagnostic capacity. \n",
    "\n",
    "### Images and mask labels\n",
    "\n",
    "Colorized cells and bacterium species (left) and corresposnding labelled masks (right) \n",
    "<br>\n",
    "<img src=\"1.png\" width=500 height=500 />\n",
    "<img src=\"2.png\" width=500 height=500 />\n",
    "<img src=\"3.png\" width=500 height=500 />\n",
    "\n",
    "### Overview\n",
    "<img src=\"overview.png\" width=800 height=800 />"
   ]
  },
  {
   "cell_type": "markdown",
   "id": "e7faf922",
   "metadata": {},
   "source": []
  }
 ],
 "metadata": {
  "kernelspec": {
   "display_name": "Python 3 (ipykernel)",
   "language": "python",
   "name": "python3"
  },
  "language_info": {
   "codemirror_mode": {
    "name": "ipython",
    "version": 3
   },
   "file_extension": ".py",
   "mimetype": "text/x-python",
   "name": "python",
   "nbconvert_exporter": "python",
   "pygments_lexer": "ipython3",
   "version": "3.8.12"
  }
 },
 "nbformat": 4,
 "nbformat_minor": 5
}
