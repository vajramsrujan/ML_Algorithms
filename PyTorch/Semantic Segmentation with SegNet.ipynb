{
 "cells": [
  {
   "cell_type": "markdown",
   "id": "0a992b13",
   "metadata": {},
   "source": [
    "# Semantic Segmentation using SegNet \n",
    "## Introduction\n",
    "This notebook is a summary of a personal project demonstrating how convolutional neural networks (CNNs) can be used for an image segmentation task. Specifically, we describe semantic labelling of specific targets within a dataset. Semantic segmentation is a common segmentation technique where different objects are distinguised from each other based on class type only, though each instance within the class is not delineated. \n",
    "\n",
    "<br>\n",
    "<img src=\"typesofseg.png\" width=1000 height=1000 />"
   ]
  },
  {
   "cell_type": "markdown",
   "id": "4567bba3",
   "metadata": {},
   "source": [
    "##  Dataset \n",
    "I've been particularly interested in how supervised learning can be used in digital pathology and other medical/research-related image modailties. For this project, I handled a **darkfield microscopy dataset** populated with labelled red blood cells (RBC's) and Spirochaeta bacteria. My goal was to construct and test a CNN architecture from the groud up which could label RBC's from bacteria within reasonable accuracy. \n",
    "\n",
    "### Images"
   ]
  },
  {
   "cell_type": "code",
   "execution_count": null,
   "id": "d928d5e3",
   "metadata": {},
   "outputs": [],
   "source": []
  }
 ],
 "metadata": {
  "kernelspec": {
   "display_name": "Python 3 (ipykernel)",
   "language": "python",
   "name": "python3"
  },
  "language_info": {
   "codemirror_mode": {
    "name": "ipython",
    "version": 3
   },
   "file_extension": ".py",
   "mimetype": "text/x-python",
   "name": "python",
   "nbconvert_exporter": "python",
   "pygments_lexer": "ipython3",
   "version": "3.8.12"
  }
 },
 "nbformat": 4,
 "nbformat_minor": 5
}
